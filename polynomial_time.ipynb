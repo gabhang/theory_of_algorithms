{
 "cells": [
  {
   "cell_type": "markdown",
   "id": "48984fff",
   "metadata": {},
   "source": [
    "# The Polynomial Time Complexity Class (P)\n",
    "***\n",
    "### Introduction\n",
    "The complexity class P refers to a collection of decision problems that can be **easily checked or solved** by an algorithm within a **polynomial amount of time**. This implies that the running time of the algorithm **increases proportionally** to a polynomial function of the *input size*. As a result, polynomial time algorithms are typically deemed as **efficient**.\n",
    "\n",
    "In computational complexity theory, P is a *fundamental complexity class* that includes many significant problems in computer science and mathematics, such as addition, sorting, searching, and matrix multiplication.\n",
    "\n",
    "P is a *subset of NP*, which involves problems that can be verified within a polynomial amount of time but might **not** necessarily be solved in polynomial time. The relationship between P and NP is a *major unresolved issue* in theoretical computer science, known as the **P vs NP problem**.\n",
    "\n",
    "References: __[Complexity Classes P and NP](http://mercury.webster.edu/aleshunas/Support%20Materials/Presentations/Complexity%20Classes%20P%20and%20NP%20(13%20sep%2006).pdf), [P (complexity)\n",
    "](https://en.wikipedia.org/wiki/P_(complexity)), [The Aged P versus NP Problem](https://towardsdatascience.com/the-aged-p-versus-np-problem-91c2bd5dce23)__\n",
    "\n",
    "## Complexity Classes\n",
    "***\n",
    "\n",
    "<img src=\"https://ds055uzetaobb.cloudfront.net/brioche/uploads/FxkP3uKATb-complexity.jpg?width=1200\" width=300 height=300 />\n",
    "\n",
    "As shown, there are many complexity classes other than P and NP that each corresponds to *certain computational problems* with related **complexity and resources** required. **Time and space** are commonly used to determine how complex a problem is. *Time complexity* is used to indicate the number of steps required to solve a problem and to verify the answer. On the other hand, *space complexity* describes the amount of memory needed for the algorithm to function.\n",
    "\n",
    "### Types of Complexity Classes\n",
    "\n",
    "<img src=\"https://ds055uzetaobb.cloudfront.net/brioche/uploads/p5RvwYnzMO-aaa.png?width=1200\" width=400 height=400 />\n",
    "\n",
    "In this context, *four* common complexity classes will be discussed further:\n",
    "\n",
    "- **P**: The term P in P class stands for **Polynomial Time**. This class contains decision problems (with a \"yes\" or \"no\" answer) that can be *solved* in *polynomial Turing machine*, also known as *deterministic Turing machine*. As mentioned previously, P class problems have solutions that are **easily obtainable** and can be **verified easily**.\n",
    "- **NP**: The Non-deterministic Polynomial Time class comprises decision problems that can be solved in a *non-deterministic Turing machine in polynomial time* or in a *deterministic Turing machine in exponential time*. In NP class, computational problems **cannot be solved easily** but can be **verified easily** in polynomial time. For instance, graph isomorphism is a NP class problem as it is still unsolvable in polynomial time and can be solved using *brute-force approach* which takes exponential time. A demonstration can be found in [this jupyter notebook](https://github.com/gabhang/graph_theory/blob/main/graph-isomorphism.ipynb) which discusses **P vs NP problem** as well.\n",
    "- **NP-Complete**: NP-Complete problems are **both NP and NP-Hard**. Problems in NP-Complete class are the difficult ones in NP class. Therefore, if any of the problems in NP-Complete can be solved in polynomial time, it would imply that all problems in NP class can be solved in polynomial time too. \n",
    "- **NP-Hard**: A problem that is classfied as NP-hard is **at least as difficult** as the problem in NP class. It is vital to note that *not* all NP-Hard problems are in NP as visualised in the figure above. It takes a big amount of time to verify if an NP-hard problem is right or not.\n",
    "\n",
    "References: __[Complexity Classes](https://brilliant.org/wiki/complexity-classes/), [Types of Complexity Classes | P, NP, CoNP, NP hard and NP completed](https://www.geeksforgeeks.org/types-of-complexity-classes-p-np-conp-np-hard-and-np-complete/)__"
   ]
  }
 ],
 "metadata": {
  "kernelspec": {
   "display_name": "Python 3 (ipykernel)",
   "language": "python",
   "name": "python3"
  },
  "language_info": {
   "codemirror_mode": {
    "name": "ipython",
    "version": 3
   },
   "file_extension": ".py",
   "mimetype": "text/x-python",
   "name": "python",
   "nbconvert_exporter": "python",
   "pygments_lexer": "ipython3",
   "version": "3.9.7"
  }
 },
 "nbformat": 4,
 "nbformat_minor": 5
}
